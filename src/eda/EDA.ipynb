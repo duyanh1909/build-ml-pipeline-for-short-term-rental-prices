{
 "cells": [
  {
   "cell_type": "markdown",
   "metadata": {},
   "source": [
    "# NYC AirBNB EDA Jupyter Notebook"
   ]
  },
  {
   "cell_type": "markdown",
   "metadata": {},
   "source": [
    "## Import library"
   ]
  },
  {
   "cell_type": "code",
   "execution_count": 1,
   "metadata": {},
   "outputs": [],
   "source": [
    "import wandb\n",
    "import pandas as pd\n",
    "import pandas_profiling "
   ]
  },
  {
   "cell_type": "markdown",
   "metadata": {},
   "source": [
    "## Download lastest sample data from Wandb and Read it with pandas"
   ]
  },
  {
   "cell_type": "code",
   "execution_count": 2,
   "metadata": {},
   "outputs": [
    {
     "name": "stderr",
     "output_type": "stream",
     "text": [
      "\u001b[34m\u001b[1mwandb\u001b[0m: Currently logged in as: \u001b[33muit\u001b[0m (\u001b[33manhndd3\u001b[0m). Use \u001b[1m`wandb login --relogin`\u001b[0m to force relogin\n"
     ]
    },
    {
     "data": {
      "text/html": [
       "wandb version 0.13.5 is available!  To upgrade, please run:\n",
       " $ pip install wandb --upgrade"
      ],
      "text/plain": [
       "<IPython.core.display.HTML object>"
      ]
     },
     "metadata": {},
     "output_type": "display_data"
    },
    {
     "data": {
      "text/html": [
       "Tracking run with wandb version 0.13.2"
      ],
      "text/plain": [
       "<IPython.core.display.HTML object>"
      ]
     },
     "metadata": {},
     "output_type": "display_data"
    },
    {
     "data": {
      "text/html": [
       "Run data is saved locally in <code>/mnt/c/Users/ndduy/Desktop/build-ml-pipeline-for-short-term-rental-prices/src/eda/wandb/run-20221129_232835-1q8mxs02</code>"
      ],
      "text/plain": [
       "<IPython.core.display.HTML object>"
      ]
     },
     "metadata": {},
     "output_type": "display_data"
    },
    {
     "data": {
      "text/html": [
       "Syncing run <strong><a href=\"https://wandb.ai/anhndd3/nyc_airbnb/runs/1q8mxs02\" target=\"_blank\">cosmic-butterfly-4</a></strong> to <a href=\"https://wandb.ai/anhndd3/nyc_airbnb\" target=\"_blank\">Weights & Biases</a> (<a href=\"https://wandb.me/run\" target=\"_blank\">docs</a>)<br/>"
      ],
      "text/plain": [
       "<IPython.core.display.HTML object>"
      ]
     },
     "metadata": {},
     "output_type": "display_data"
    }
   ],
   "source": [
    "run = wandb.init(project=\"nyc_airbnb\", group=\"eda\", save_code=True)\n",
    "local_path = wandb.use_artifact('sample.csv:latest').file()\n",
    "df = pd.read_csv(local_path, index_col=\"id\")"
   ]
  },
  {
   "cell_type": "code",
   "execution_count": 3,
   "metadata": {},
   "outputs": [
    {
     "data": {
      "text/html": [
       "<div>\n",
       "<style scoped>\n",
       "    .dataframe tbody tr th:only-of-type {\n",
       "        vertical-align: middle;\n",
       "    }\n",
       "\n",
       "    .dataframe tbody tr th {\n",
       "        vertical-align: top;\n",
       "    }\n",
       "\n",
       "    .dataframe thead th {\n",
       "        text-align: right;\n",
       "    }\n",
       "</style>\n",
       "<table border=\"1\" class=\"dataframe\">\n",
       "  <thead>\n",
       "    <tr style=\"text-align: right;\">\n",
       "      <th></th>\n",
       "      <th>name</th>\n",
       "      <th>host_id</th>\n",
       "      <th>host_name</th>\n",
       "      <th>neighbourhood_group</th>\n",
       "      <th>neighbourhood</th>\n",
       "      <th>latitude</th>\n",
       "      <th>longitude</th>\n",
       "      <th>room_type</th>\n",
       "      <th>price</th>\n",
       "      <th>minimum_nights</th>\n",
       "      <th>number_of_reviews</th>\n",
       "      <th>last_review</th>\n",
       "      <th>reviews_per_month</th>\n",
       "      <th>calculated_host_listings_count</th>\n",
       "      <th>availability_365</th>\n",
       "    </tr>\n",
       "    <tr>\n",
       "      <th>id</th>\n",
       "      <th></th>\n",
       "      <th></th>\n",
       "      <th></th>\n",
       "      <th></th>\n",
       "      <th></th>\n",
       "      <th></th>\n",
       "      <th></th>\n",
       "      <th></th>\n",
       "      <th></th>\n",
       "      <th></th>\n",
       "      <th></th>\n",
       "      <th></th>\n",
       "      <th></th>\n",
       "      <th></th>\n",
       "      <th></th>\n",
       "    </tr>\n",
       "  </thead>\n",
       "  <tbody>\n",
       "    <tr>\n",
       "      <th>8425148</th>\n",
       "      <td>*Amazing Lower East Side Apartment*</td>\n",
       "      <td>21940002</td>\n",
       "      <td>Zlatko</td>\n",
       "      <td>Manhattan</td>\n",
       "      <td>Lower East Side</td>\n",
       "      <td>40.71978</td>\n",
       "      <td>-73.98424</td>\n",
       "      <td>Entire home/apt</td>\n",
       "      <td>205</td>\n",
       "      <td>2</td>\n",
       "      <td>6</td>\n",
       "      <td>2017-01-01</td>\n",
       "      <td>0.13</td>\n",
       "      <td>1</td>\n",
       "      <td>0</td>\n",
       "    </tr>\n",
       "    <tr>\n",
       "      <th>14320998</th>\n",
       "      <td>1 Bedroom</td>\n",
       "      <td>84810879</td>\n",
       "      <td>Linda</td>\n",
       "      <td>Queens</td>\n",
       "      <td>Rosedale</td>\n",
       "      <td>40.66155</td>\n",
       "      <td>-73.73064</td>\n",
       "      <td>Private room</td>\n",
       "      <td>88</td>\n",
       "      <td>1</td>\n",
       "      <td>0</td>\n",
       "      <td>NaN</td>\n",
       "      <td>NaN</td>\n",
       "      <td>3</td>\n",
       "      <td>364</td>\n",
       "    </tr>\n",
       "    <tr>\n",
       "      <th>9936109</th>\n",
       "      <td>Comfy apartment, close to train, beautiful str...</td>\n",
       "      <td>970003</td>\n",
       "      <td>Cyntia</td>\n",
       "      <td>Manhattan</td>\n",
       "      <td>Morningside Heights</td>\n",
       "      <td>40.81218</td>\n",
       "      <td>-73.96112</td>\n",
       "      <td>Entire home/apt</td>\n",
       "      <td>200</td>\n",
       "      <td>3</td>\n",
       "      <td>1</td>\n",
       "      <td>2016-06-13</td>\n",
       "      <td>0.03</td>\n",
       "      <td>1</td>\n",
       "      <td>0</td>\n",
       "    </tr>\n",
       "    <tr>\n",
       "      <th>31663848</th>\n",
       "      <td>Gorgeous Sunny Luxury Williamsburg Condo</td>\n",
       "      <td>237406328</td>\n",
       "      <td>Daniel</td>\n",
       "      <td>Brooklyn</td>\n",
       "      <td>Williamsburg</td>\n",
       "      <td>40.71447</td>\n",
       "      <td>-73.95108</td>\n",
       "      <td>Entire home/apt</td>\n",
       "      <td>140</td>\n",
       "      <td>2</td>\n",
       "      <td>30</td>\n",
       "      <td>2019-07-07</td>\n",
       "      <td>5.56</td>\n",
       "      <td>1</td>\n",
       "      <td>135</td>\n",
       "    </tr>\n",
       "    <tr>\n",
       "      <th>35972860</th>\n",
       "      <td>Brooklyn family apartment</td>\n",
       "      <td>16056444</td>\n",
       "      <td>Charlotte</td>\n",
       "      <td>Brooklyn</td>\n",
       "      <td>Greenpoint</td>\n",
       "      <td>40.72229</td>\n",
       "      <td>-73.94846</td>\n",
       "      <td>Entire home/apt</td>\n",
       "      <td>128</td>\n",
       "      <td>30</td>\n",
       "      <td>0</td>\n",
       "      <td>NaN</td>\n",
       "      <td>NaN</td>\n",
       "      <td>1</td>\n",
       "      <td>312</td>\n",
       "    </tr>\n",
       "    <tr>\n",
       "      <th>30069635</th>\n",
       "      <td>Chic, spacious, private home away from home!</td>\n",
       "      <td>101367917</td>\n",
       "      <td>Colleen</td>\n",
       "      <td>Queens</td>\n",
       "      <td>Astoria</td>\n",
       "      <td>40.76589</td>\n",
       "      <td>-73.92259</td>\n",
       "      <td>Private room</td>\n",
       "      <td>150</td>\n",
       "      <td>2</td>\n",
       "      <td>4</td>\n",
       "      <td>2019-04-28</td>\n",
       "      <td>0.55</td>\n",
       "      <td>1</td>\n",
       "      <td>0</td>\n",
       "    </tr>\n",
       "    <tr>\n",
       "      <th>19948618</th>\n",
       "      <td>Amazing studio step away from Time Square/54B</td>\n",
       "      <td>48146336</td>\n",
       "      <td>Irina</td>\n",
       "      <td>Manhattan</td>\n",
       "      <td>Hell's Kitchen</td>\n",
       "      <td>40.76309</td>\n",
       "      <td>-73.99214</td>\n",
       "      <td>Entire home/apt</td>\n",
       "      <td>130</td>\n",
       "      <td>30</td>\n",
       "      <td>7</td>\n",
       "      <td>2019-06-29</td>\n",
       "      <td>0.34</td>\n",
       "      <td>20</td>\n",
       "      <td>311</td>\n",
       "    </tr>\n",
       "    <tr>\n",
       "      <th>5352301</th>\n",
       "      <td>Housing for SGU/AUA/SABA/ROSS students</td>\n",
       "      <td>27741331</td>\n",
       "      <td>Lyn</td>\n",
       "      <td>Brooklyn</td>\n",
       "      <td>East Flatbush</td>\n",
       "      <td>40.65777</td>\n",
       "      <td>-73.92263</td>\n",
       "      <td>Private room</td>\n",
       "      <td>27</td>\n",
       "      <td>30</td>\n",
       "      <td>9</td>\n",
       "      <td>2019-03-23</td>\n",
       "      <td>0.18</td>\n",
       "      <td>2</td>\n",
       "      <td>345</td>\n",
       "    </tr>\n",
       "    <tr>\n",
       "      <th>6462454</th>\n",
       "      <td>Spacious, Bright, Brooklyn Beauty</td>\n",
       "      <td>3210626</td>\n",
       "      <td>Matthew</td>\n",
       "      <td>Brooklyn</td>\n",
       "      <td>Park Slope</td>\n",
       "      <td>40.67610</td>\n",
       "      <td>-73.97509</td>\n",
       "      <td>Entire home/apt</td>\n",
       "      <td>200</td>\n",
       "      <td>1</td>\n",
       "      <td>0</td>\n",
       "      <td>NaN</td>\n",
       "      <td>NaN</td>\n",
       "      <td>1</td>\n",
       "      <td>0</td>\n",
       "    </tr>\n",
       "    <tr>\n",
       "      <th>27006</th>\n",
       "      <td>Comfortable UWS 2-BD Family-Friendly Brownstone</td>\n",
       "      <td>115560</td>\n",
       "      <td>Stacy</td>\n",
       "      <td>Manhattan</td>\n",
       "      <td>Upper West Side</td>\n",
       "      <td>40.77823</td>\n",
       "      <td>-73.97637</td>\n",
       "      <td>Entire home/apt</td>\n",
       "      <td>235</td>\n",
       "      <td>6</td>\n",
       "      <td>27</td>\n",
       "      <td>2019-04-27</td>\n",
       "      <td>0.27</td>\n",
       "      <td>1</td>\n",
       "      <td>199</td>\n",
       "    </tr>\n",
       "  </tbody>\n",
       "</table>\n",
       "</div>"
      ],
      "text/plain": [
       "                                                       name    host_id  \\\n",
       "id                                                                       \n",
       "8425148                 *Amazing Lower East Side Apartment*   21940002   \n",
       "14320998                                          1 Bedroom   84810879   \n",
       "9936109   Comfy apartment, close to train, beautiful str...     970003   \n",
       "31663848           Gorgeous Sunny Luxury Williamsburg Condo  237406328   \n",
       "35972860                          Brooklyn family apartment   16056444   \n",
       "30069635       Chic, spacious, private home away from home!  101367917   \n",
       "19948618      Amazing studio step away from Time Square/54B   48146336   \n",
       "5352301              Housing for SGU/AUA/SABA/ROSS students   27741331   \n",
       "6462454                   Spacious, Bright, Brooklyn Beauty    3210626   \n",
       "27006       Comfortable UWS 2-BD Family-Friendly Brownstone     115560   \n",
       "\n",
       "          host_name neighbourhood_group        neighbourhood  latitude  \\\n",
       "id                                                                       \n",
       "8425148      Zlatko           Manhattan      Lower East Side  40.71978   \n",
       "14320998      Linda              Queens             Rosedale  40.66155   \n",
       "9936109      Cyntia           Manhattan  Morningside Heights  40.81218   \n",
       "31663848     Daniel            Brooklyn         Williamsburg  40.71447   \n",
       "35972860  Charlotte            Brooklyn           Greenpoint  40.72229   \n",
       "30069635    Colleen              Queens              Astoria  40.76589   \n",
       "19948618      Irina           Manhattan       Hell's Kitchen  40.76309   \n",
       "5352301         Lyn            Brooklyn        East Flatbush  40.65777   \n",
       "6462454     Matthew            Brooklyn           Park Slope  40.67610   \n",
       "27006         Stacy           Manhattan      Upper West Side  40.77823   \n",
       "\n",
       "          longitude        room_type  price  minimum_nights  \\\n",
       "id                                                            \n",
       "8425148   -73.98424  Entire home/apt    205               2   \n",
       "14320998  -73.73064     Private room     88               1   \n",
       "9936109   -73.96112  Entire home/apt    200               3   \n",
       "31663848  -73.95108  Entire home/apt    140               2   \n",
       "35972860  -73.94846  Entire home/apt    128              30   \n",
       "30069635  -73.92259     Private room    150               2   \n",
       "19948618  -73.99214  Entire home/apt    130              30   \n",
       "5352301   -73.92263     Private room     27              30   \n",
       "6462454   -73.97509  Entire home/apt    200               1   \n",
       "27006     -73.97637  Entire home/apt    235               6   \n",
       "\n",
       "          number_of_reviews last_review  reviews_per_month  \\\n",
       "id                                                           \n",
       "8425148                   6  2017-01-01               0.13   \n",
       "14320998                  0         NaN                NaN   \n",
       "9936109                   1  2016-06-13               0.03   \n",
       "31663848                 30  2019-07-07               5.56   \n",
       "35972860                  0         NaN                NaN   \n",
       "30069635                  4  2019-04-28               0.55   \n",
       "19948618                  7  2019-06-29               0.34   \n",
       "5352301                   9  2019-03-23               0.18   \n",
       "6462454                   0         NaN                NaN   \n",
       "27006                    27  2019-04-27               0.27   \n",
       "\n",
       "          calculated_host_listings_count  availability_365  \n",
       "id                                                          \n",
       "8425148                                1                 0  \n",
       "14320998                               3               364  \n",
       "9936109                                1                 0  \n",
       "31663848                               1               135  \n",
       "35972860                               1               312  \n",
       "30069635                               1                 0  \n",
       "19948618                              20               311  \n",
       "5352301                                2               345  \n",
       "6462454                                1                 0  \n",
       "27006                                  1               199  "
      ]
     },
     "execution_count": 3,
     "metadata": {},
     "output_type": "execute_result"
    }
   ],
   "source": [
    "df.sample(10)"
   ]
  },
  {
   "cell_type": "markdown",
   "metadata": {},
   "source": [
    "## Create profile"
   ]
  },
  {
   "cell_type": "code",
   "execution_count": 4,
   "metadata": {},
   "outputs": [
    {
     "data": {
      "application/vnd.jupyter.widget-view+json": {
       "model_id": "42633709a31d4ab1b404185aac20fada",
       "version_major": 2,
       "version_minor": 0
      },
      "text/plain": [
       "Summarize dataset:   0%|          | 0/29 [00:00<?, ?it/s]"
      ]
     },
     "metadata": {},
     "output_type": "display_data"
    },
    {
     "data": {
      "application/vnd.jupyter.widget-view+json": {
       "model_id": "66605629b9af4eb8aec38d2f84ea84d6",
       "version_major": 2,
       "version_minor": 0
      },
      "text/plain": [
       "Generate report structure:   0%|          | 0/1 [00:00<?, ?it/s]"
      ]
     },
     "metadata": {},
     "output_type": "display_data"
    },
    {
     "data": {
      "application/vnd.jupyter.widget-view+json": {
       "model_id": "",
       "version_major": 2,
       "version_minor": 0
      },
      "text/plain": [
       "Render widgets:   0%|          | 0/1 [00:00<?, ?it/s]"
      ]
     },
     "metadata": {},
     "output_type": "display_data"
    },
    {
     "data": {
      "application/vnd.jupyter.widget-view+json": {
       "model_id": "885a5144e768436a832a06e287d696b2",
       "version_major": 2,
       "version_minor": 0
      },
      "text/plain": [
       "VBox(children=(Tab(children=(Tab(children=(GridBox(children=(VBox(children=(GridspecLayout(children=(HTML(valu…"
      ]
     },
     "metadata": {},
     "output_type": "display_data"
    }
   ],
   "source": [
    "profile = pandas_profiling.ProfileReport(df)\n",
    "profile.to_widgets()"
   ]
  },
  {
   "cell_type": "markdown",
   "metadata": {},
   "source": [
    "## Remove outliers and Cover a 'last_review' attribute into the datatime type."
   ]
  },
  {
   "cell_type": "code",
   "execution_count": 5,
   "metadata": {},
   "outputs": [],
   "source": [
    "# Drop outliers\n",
    "min_price = 10\n",
    "max_price = 350\n",
    "idx = df['price'].between(min_price, max_price)\n",
    "df = df[idx].copy()\n",
    "# Convert last_review to datetime\n",
    "df['last_review'] = pd.to_datetime(df['last_review'])"
   ]
  },
  {
   "cell_type": "markdown",
   "metadata": {},
   "source": [
    "Check infomation data such as data type, the number of null value."
   ]
  },
  {
   "cell_type": "code",
   "execution_count": 6,
   "metadata": {},
   "outputs": [
    {
     "name": "stdout",
     "output_type": "stream",
     "text": [
      "<class 'pandas.core.frame.DataFrame'>\n",
      "Int64Index: 19001 entries, 9138664 to 33631782\n",
      "Data columns (total 15 columns):\n",
      " #   Column                          Non-Null Count  Dtype         \n",
      "---  ------                          --------------  -----         \n",
      " 0   name                            18994 non-null  object        \n",
      " 1   host_id                         19001 non-null  int64         \n",
      " 2   host_name                       18993 non-null  object        \n",
      " 3   neighbourhood_group             19001 non-null  object        \n",
      " 4   neighbourhood                   19001 non-null  object        \n",
      " 5   latitude                        19001 non-null  float64       \n",
      " 6   longitude                       19001 non-null  float64       \n",
      " 7   room_type                       19001 non-null  object        \n",
      " 8   price                           19001 non-null  int64         \n",
      " 9   minimum_nights                  19001 non-null  int64         \n",
      " 10  number_of_reviews               19001 non-null  int64         \n",
      " 11  last_review                     15243 non-null  datetime64[ns]\n",
      " 12  reviews_per_month               15243 non-null  float64       \n",
      " 13  calculated_host_listings_count  19001 non-null  int64         \n",
      " 14  availability_365                19001 non-null  int64         \n",
      "dtypes: datetime64[ns](1), float64(3), int64(6), object(5)\n",
      "memory usage: 2.3+ MB\n"
     ]
    }
   ],
   "source": [
    "df.info()"
   ]
  },
  {
   "cell_type": "markdown",
   "metadata": {},
   "source": [
    "Save the jupyter notebook on W&B"
   ]
  },
  {
   "cell_type": "code",
   "execution_count": 7,
   "metadata": {},
   "outputs": [
    {
     "data": {
      "text/html": [
       "Waiting for W&B process to finish... <strong style=\"color:green\">(success).</strong>"
      ],
      "text/plain": [
       "<IPython.core.display.HTML object>"
      ]
     },
     "metadata": {},
     "output_type": "display_data"
    },
    {
     "data": {
      "application/vnd.jupyter.widget-view+json": {
       "model_id": "",
       "version_major": 2,
       "version_minor": 0
      },
      "text/plain": [
       "VBox(children=(Label(value='0.064 MB of 0.064 MB uploaded (0.030 MB deduped)\\r'), FloatProgress(value=1.0, max…"
      ]
     },
     "metadata": {},
     "output_type": "display_data"
    },
    {
     "data": {
      "text/html": [
       "Synced <strong style=\"color:#cdcd00\">cosmic-butterfly-4</strong>: <a href=\"https://wandb.ai/anhndd3/nyc_airbnb/runs/1q8mxs02\" target=\"_blank\">https://wandb.ai/anhndd3/nyc_airbnb/runs/1q8mxs02</a><br/>Synced 7 W&B file(s), 0 media file(s), 2 artifact file(s) and 1 other file(s)"
      ],
      "text/plain": [
       "<IPython.core.display.HTML object>"
      ]
     },
     "metadata": {},
     "output_type": "display_data"
    },
    {
     "data": {
      "text/html": [
       "Find logs at: <code>./wandb/run-20221129_232835-1q8mxs02/logs</code>"
      ],
      "text/plain": [
       "<IPython.core.display.HTML object>"
      ]
     },
     "metadata": {},
     "output_type": "display_data"
    }
   ],
   "source": [
    "run.finish()"
   ]
  },
  {
   "cell_type": "code",
   "execution_count": null,
   "metadata": {},
   "outputs": [],
   "source": []
  }
 ],
 "metadata": {
  "kernelspec": {
   "display_name": "Python 3 (ipykernel)",
   "language": "python",
   "name": "python3"
  },
  "language_info": {
   "codemirror_mode": {
    "name": "ipython",
    "version": 3
   },
   "file_extension": ".py",
   "mimetype": "text/x-python",
   "name": "python",
   "nbconvert_exporter": "python",
   "pygments_lexer": "ipython3",
   "version": "3.9.15"
  },
  "vscode": {
   "interpreter": {
    "hash": "5e055631f14066bd15c2c06aa2308ce57b7e2cd3dd61aad85b480a6d84b82b36"
   }
  }
 },
 "nbformat": 4,
 "nbformat_minor": 2
}
